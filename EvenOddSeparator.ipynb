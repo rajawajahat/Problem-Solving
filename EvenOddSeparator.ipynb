{
 "cells": [
  {
   "cell_type": "code",
   "execution_count": 34,
   "id": "5e57e57a",
   "metadata": {},
   "outputs": [
    {
     "name": "stdout",
     "output_type": "stream",
     "text": [
      "[3, 9, 45, 34, 8, 90, 12]\n"
     ]
    }
   ],
   "source": [
    "input_list = [12, 34, 45, 9, 8, 90, 3]\n",
    "\n",
    "left_pointer = 0\n",
    "right_pointer = len(input_list)-1\n",
    "\n",
    "\n",
    "while left_pointer != right_pointer:\n",
    "    \n",
    "    if input_list[left_pointer] %2 == 0 and input_list[right_pointer] %2 == 0:\n",
    "        right_pointer-=1\n",
    "        \n",
    "    elif input_list[left_pointer] %2 != 0 and input_list[right_pointer] %2 != 0:\n",
    "        \n",
    "        left_pointer+=1\n",
    "        \n",
    "    elif input_list[right_pointer] %2 != 0 and input_list[left_pointer] %2 == 0:\n",
    "        \n",
    "        temp = input_list[left_pointer]\n",
    "        input_list[left_pointer] = input_list[right_pointer]\n",
    "        input_list[right_pointer] = temp\n",
    "        \n",
    "        left_pointer+=1\n",
    "        right_pointer-=1\n",
    "        \n",
    "    else:\n",
    "        left_pointer+=1\n",
    "        right_pointer-=1\n",
    "        \n",
    "print(input_list)"
   ]
  }
 ],
 "metadata": {
  "kernelspec": {
   "display_name": "Python 3",
   "language": "python",
   "name": "python3"
  },
  "language_info": {
   "codemirror_mode": {
    "name": "ipython",
    "version": 3
   },
   "file_extension": ".py",
   "mimetype": "text/x-python",
   "name": "python",
   "nbconvert_exporter": "python",
   "pygments_lexer": "ipython3",
   "version": "3.8.10"
  }
 },
 "nbformat": 4,
 "nbformat_minor": 5
}
